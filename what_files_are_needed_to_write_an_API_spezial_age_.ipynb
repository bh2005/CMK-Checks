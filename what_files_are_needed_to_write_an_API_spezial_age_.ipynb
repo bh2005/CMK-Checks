{
  "cells": [
    {
      "cell_type": "markdown",
      "metadata": {
        "id": "view-in-github",
        "colab_type": "text"
      },
      "source": [
        "<a href=\"https://colab.research.google.com/github/bh2005/CMK-Checks/blob/master/what_files_are_needed_to_write_an_API_spezial_age_.ipynb\" target=\"_parent\"><img src=\"https://colab.research.google.com/assets/colab-badge.svg\" alt=\"Open In Colab\"/></a>"
      ]
    },
    {
      "cell_type": "markdown",
      "source": [
        "To create a custom special agent or datasource for Checkmk that interacts with an API, you'll need a few key files.  The exact number and names might vary slightly depending on your Checkmk version and how you structure your agent, but these are the essentials:\n",
        "\n",
        "**1. The Agent Script (e.g., `my_api_agent`):**\n",
        "\n",
        "*   **Location:** `/usr/lib/check_mk_agent/plugins/special/` (or a subdirectory within `special/` for better organization).\n",
        "*   **Purpose:** This is the core of your agent. It's responsible for:\n",
        "    *   Fetching data from the API.\n",
        "    *   Parsing the API response (usually JSON or XML).\n",
        "    *   Formatting the data into Checkmk's agent output format (`<<<section_name>>>\\n...data...\\n`).\n",
        "*   **Language:** Usually Python, but other scripting languages are possible.\n",
        "*   **Key Elements:**\n",
        "    *   Import necessary libraries (`requests`, `json`, etc.).\n",
        "    *   Code to authenticate with the API (if needed).\n",
        "    *   Functions to make API calls.\n",
        "    *   Logic to extract the relevant metrics/information.\n",
        "    *   Formatting of the output using Checkmk's section format.\n",
        "*   **Example (Simplified Python):**"
      ],
      "metadata": {
        "id": "fEtSD8CFSt4l"
      }
    },
    {
      "cell_type": "code",
      "source": [
        "#!/usr/bin/env python3\n",
        "\n",
        "import requests\n",
        "import json\n",
        "\n",
        "def main():\n",
        "    api_url = \"https://my-api.com/data\"\n",
        "    try:\n",
        "        response = requests.get(api_url)\n",
        "        response.raise_for_status()  # Raise an exception for bad status codes (4xx or 5xx)\n",
        "        data = response.json()\n",
        "\n",
        "        print(\"<<<my_api_data>>>\")  # Checkmk section name\n",
        "        for item in data:\n",
        "            print(f\"metric1={item['value1']} metric2={item['value2']}\")\n",
        "\n",
        "    except requests.exceptions.RequestException as e:\n",
        "        print(f\"Error: {e}\") #Important: Print errors to stdout for Checkmk\n",
        "    except json.JSONDecodeError as e:\n",
        "        print(f\"Error decoding JSON: {e}\")\n",
        "    except Exception as e:\n",
        "        print(f\"Unexpected Error: {e}\")\n",
        "\n",
        "if __name__ == \"__main__\":\n",
        "    main()"
      ],
      "outputs": [],
      "execution_count": null,
      "metadata": {
        "id": "U-_NDsBgSt4p"
      }
    },
    {
      "cell_type": "markdown",
      "source": [
        "**2. The Inventory Function (e.g., `my_api_inventory`):**\n",
        "\n",
        "*   **Location:** `~/local/lib/check_mk/inventory/` (or `/omd/sites/<site>/local/lib/check_mk/inventory/` in OMD).  The filename *must* match the section name from your agent script (without the `<<<>>>`).  So, in this example, it would be `my_api_data`.\n",
        "*   **Purpose:**  This function is used for *service discovery*. It analyzes the data returned by the agent and determines which services should be monitored.\n",
        "*   **Language:** Python.\n",
        "*   **Key Elements:**\n",
        "    *   Takes the agent output as input.\n",
        "    *   Parses the agent output (usually line by line).\n",
        "    *   Uses `yield` to return tuples of `(item_name, parameters)`.  `item_name` is the name of the service Checkmk will create. `parameters` is a dictionary of parameters for the check.\n",
        "*   **Example (Simplified Python):**"
      ],
      "metadata": {
        "id": "z5egsGpZSt4r"
      }
    },
    {
      "cell_type": "code",
      "source": [
        "#!/usr/bin/env python3\n",
        "\n",
        "import json\n",
        "\n",
        "def inventory_my_api_data(check_context):\n",
        "    for line in check_context[\"my_api_data\"]:  # Section name from the agent\n",
        "        try:\n",
        "            parts = line.split() #Simple parsing. Adapt as needed.\n",
        "            item_name = parts[0].split(\"=\")[0] #Example: metric1\n",
        "            yield (item_name, {}) # No initial parameters in this example\n",
        "        except Exception as e:\n",
        "            pass #Handle errors as needed."
      ],
      "outputs": [],
      "execution_count": null,
      "metadata": {
        "id": "tq6v0uNbSt4r"
      }
    },
    {
      "cell_type": "markdown",
      "source": [
        "**3. The Check Plugin (e.g., `check_my_api_data`):**\n",
        "\n",
        "*   **Location:** `~/local/lib/check_mk/checks/` (or `/omd/sites/<site>/local/lib/check_mk/checks/` in OMD). The filename *must* match the section name from your agent script (without the `<<<>>>`). So, in this example, it would be `check_my_api_data`.\n",
        "*   **Purpose:** This script defines how Checkmk will actually *check* the service.  It receives the item name and parameters from the inventory function and the data from the agent.  It then performs the check logic and returns the Checkmk check status (OK, WARNING, CRITICAL, UNKNOWN) and output.\n",
        "*   **Language:** Python.\n",
        "*   **Key Elements:**\n",
        "    *   Takes `item`, `params`, and `check_context` as arguments.\n",
        "    *   `item` is the item name from the inventory.\n",
        "    *   `params` are the parameters from the inventory.\n",
        "    *   `check_context` contains the agent's output (the `<<<my_api_data>>>` section).\n",
        "    *   Performs the check logic (e.g., comparing values to thresholds).\n",
        "    *   Returns the Checkmk check status and output.\n",
        "*   **Example (Simplified Python):**"
      ],
      "metadata": {
        "id": "SPtGmRGQSt4r"
      }
    },
    {
      "cell_type": "code",
      "source": [
        "#!/usr/bin/env python3\n",
        "\n",
        "def check_my_api_data(item, params, check_context):\n",
        "    for line in check_context[\"my_api_data\"]:\n",
        "        if item in line: #Check the line for the item we are interested in.\n",
        "            try:\n",
        "                parts = line.split()\n",
        "                metric1 = parts[0].split(\"=\")[1]\n",
        "                # ... (Check logic, e.g., compare metric1 to a threshold) ...\n",
        "                if int(metric1) > 10:\n",
        "                    return 2, f\"{item} is too high ({metric1})\" #CRITICAL\n",
        "                else:\n",
        "                    return 0, f\"{item} is OK ({metric1})\" #OK\n",
        "            except Exception as e:\n",
        "                return 3, f\"Error processing data: {e}\" #UNKNOWN\n",
        "\n",
        "    return 3, f\"Item {item} not found\" #UNKNOWN"
      ],
      "outputs": [],
      "execution_count": null,
      "metadata": {
        "id": "qpMo3FOLSt4s"
      }
    },
    {
      "cell_type": "markdown",
      "source": [
        "**4. (Optional) The Wrapper Script (e.g., `agent_my_api_agent`):**\n",
        "\n",
        "*   **Location:** `~/local/share/check_mk/checks/` (or `/omd/sites/<site>/local/share/check_mk/checks/` in OMD). The filename is `agent_` + the name of your agent.\n",
        "*   **Purpose:** If you need to pass parameters from your Checkmk rules to your special agent, you need a wrapper script.  This script receives the parameters from Checkmk and then calls your agent script with the appropriate command-line arguments.\n",
        "*   **Language:** Python.\n",
        "\n",
        "**Key Considerations:**\n",
        "\n",
        "*   **Naming:** Consistent naming is crucial.  The section name in the agent, the inventory function name, and the check plugin name should all match.\n",
        "*   **Error Handling:** Implement robust error handling in all scripts.  Print errors to `stdout` for Checkmk to capture.\n",
        "*   **Testing:** Test your agent, inventory, and check scripts thoroughly.\n",
        "*   **Checkmk Version:** Be mindful of compatibility with your Checkmk version.\n",
        "*   **Packaging (MKP):** For easy distribution and installation, consider creating a Checkmk package (`.mkp`) file.\n",
        "\n",
        "This breakdown should give you a solid foundation for creating your custom special agent or datasource.  Remember to consult the official Checkmk documentation for the most up-to-date information and best practices. Let me know if you have more questions!"
      ],
      "metadata": {
        "id": "FHc2hoyoSt4s"
      }
    }
  ],
  "metadata": {
    "colab": {
      "provenance": [],
      "include_colab_link": true
    },
    "kernelspec": {
      "display_name": "Python 3",
      "name": "python3"
    }
  },
  "nbformat": 4,
  "nbformat_minor": 0
}